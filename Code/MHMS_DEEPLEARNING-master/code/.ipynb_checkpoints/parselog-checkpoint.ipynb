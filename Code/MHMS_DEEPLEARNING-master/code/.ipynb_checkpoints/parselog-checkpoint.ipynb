{
 "cells": [
  {
   "cell_type": "code",
   "execution_count": 1,
   "metadata": {},
   "outputs": [
    {
     "name": "stdout",
     "output_type": "stream",
     "text": [
      "linear svr\n",
      "248.874136\n",
      "0.0\n",
      "13.735667\n",
      "1.7763568394e-15\n",
      "rbf svr\n",
      "402.926165\n",
      "0.0\n",
      "17.628641\n",
      "0.0\n",
      "randomforest\n",
      "289.5238384\n",
      "5.99980514114\n",
      "14.3834842\n",
      "0.147813621499\n",
      "neural network\n",
      "191.6173844\n",
      "26.8472720761\n",
      "11.5384598\n",
      "1.16364810724\n",
      "normal ae\n",
      "185.0039174\n",
      "41.966289602\n",
      "11.1714296\n",
      "1.91816917524\n",
      "denoise ae\n",
      "143.4787854\n",
      "40.3532723838\n",
      "9.3187594\n",
      "1.80609435271\n",
      "rbm\n",
      "194.6132942\n",
      "34.1930612892\n",
      "11.6706978\n",
      "1.34030749057\n",
      "bi-lstm\n",
      "191.5292024\n",
      "56.1249252939\n",
      "10.6665226\n",
      "1.95434490274\n",
      "lstm\n",
      "193.9800058\n",
      "65.3343721639\n",
      "11.0107066\n",
      "2.46190992752\n",
      "cnn\n",
      "197.1874074\n",
      "30.9061020772\n",
      "11.0279216\n",
      "1.27744271583\n"
     ]
    }
   ],
   "source": [
    "#parse the log\n",
    "filepath = 'output.log'\n",
    "import numpy as np\n",
    "def parse_line(str_res):\n",
    "    results = str_res.split(\"result:\")[1].strip()\n",
    "    mse, mae = results.split('_')\n",
    "    return float(mse), float(mae)\n",
    "\n",
    "\n",
    "model_names = ['linear svr', 'rbf svr', 'randomforest', 'neural network', 'normal ae', 'denoise ae', 'dbn', 'bi-lstm', 'lstm', 'cnn']\n",
    "for model_name in model_names:\n",
    "    print model_name\n",
    "    mse_array = []\n",
    "    mae_array = []\n",
    "    with open(filepath) as fp:\n",
    "        for line in fp:\n",
    "            if model_name in line:\n",
    "                mse, mae = parse_line(line)\n",
    "                mse_array.append(mse)\n",
    "                mae_array.append(mae)\n",
    "    print np.mean(mse_array)\n",
    "    print np.std(mse_array)\n",
    "    print np.mean(mae_array)\n",
    "    print np.std(mae_array)\n",
    "                "
   ]
  },
  {
   "cell_type": "code",
   "execution_count": null,
   "metadata": {},
   "outputs": [],
   "source": []
  }
 ],
 "metadata": {
  "kernelspec": {
   "display_name": "Python 2",
   "language": "python",
   "name": "python2"
  },
  "language_info": {
   "codemirror_mode": {
    "name": "ipython",
    "version": 2
   },
   "file_extension": ".py",
   "mimetype": "text/x-python",
   "name": "python",
   "nbconvert_exporter": "python",
   "pygments_lexer": "ipython2",
   "version": "2.7.10"
  }
 },
 "nbformat": 4,
 "nbformat_minor": 2
}
